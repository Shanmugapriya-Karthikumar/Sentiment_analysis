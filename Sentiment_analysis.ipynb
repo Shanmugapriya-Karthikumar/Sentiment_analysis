{
  "nbformat": 4,
  "nbformat_minor": 0,
  "metadata": {
    "colab": {
      "provenance": [],
      "gpuType": "T4",
      "authorship_tag": "ABX9TyM01DGqEw0RYTxoIvoFN49b",
      "include_colab_link": true
    },
    "kernelspec": {
      "name": "python3",
      "display_name": "Python 3"
    },
    "language_info": {
      "name": "python"
    },
    "accelerator": "GPU"
  },
  "cells": [
    {
      "cell_type": "markdown",
      "metadata": {
        "id": "view-in-github",
        "colab_type": "text"
      },
      "source": [
        "<a href=\"https://colab.research.google.com/github/Shanmugapriya-Karthikumar/Sentiment_analysis/blob/main/Sentiment_analysis.ipynb\" target=\"_parent\"><img src=\"https://colab.research.google.com/assets/colab-badge.svg\" alt=\"Open In Colab\"/></a>"
      ]
    },
    {
      "cell_type": "code",
      "execution_count": 1,
      "metadata": {
        "colab": {
          "base_uri": "https://localhost:8080/"
        },
        "id": "sqYZPUpfh5D0",
        "outputId": "4a7c8bf7-6305-4376-c70c-f31a1ba93d04"
      },
      "outputs": [
        {
          "output_type": "stream",
          "name": "stdout",
          "text": [
            "Collecting feedparser\n",
            "  Downloading feedparser-6.0.11-py3-none-any.whl.metadata (2.4 kB)\n",
            "Requirement already satisfied: pandas in /usr/local/lib/python3.12/dist-packages (2.2.2)\n",
            "Requirement already satisfied: scikit-learn in /usr/local/lib/python3.12/dist-packages (1.6.1)\n",
            "Requirement already satisfied: textblob in /usr/local/lib/python3.12/dist-packages (0.19.0)\n",
            "Collecting sgmllib3k (from feedparser)\n",
            "  Downloading sgmllib3k-1.0.0.tar.gz (5.8 kB)\n",
            "  Preparing metadata (setup.py) ... \u001b[?25l\u001b[?25hdone\n",
            "Requirement already satisfied: numpy>=1.26.0 in /usr/local/lib/python3.12/dist-packages (from pandas) (2.0.2)\n",
            "Requirement already satisfied: python-dateutil>=2.8.2 in /usr/local/lib/python3.12/dist-packages (from pandas) (2.9.0.post0)\n",
            "Requirement already satisfied: pytz>=2020.1 in /usr/local/lib/python3.12/dist-packages (from pandas) (2025.2)\n",
            "Requirement already satisfied: tzdata>=2022.7 in /usr/local/lib/python3.12/dist-packages (from pandas) (2025.2)\n",
            "Requirement already satisfied: scipy>=1.6.0 in /usr/local/lib/python3.12/dist-packages (from scikit-learn) (1.16.1)\n",
            "Requirement already satisfied: joblib>=1.2.0 in /usr/local/lib/python3.12/dist-packages (from scikit-learn) (1.5.1)\n",
            "Requirement already satisfied: threadpoolctl>=3.1.0 in /usr/local/lib/python3.12/dist-packages (from scikit-learn) (3.6.0)\n",
            "Requirement already satisfied: nltk>=3.9 in /usr/local/lib/python3.12/dist-packages (from textblob) (3.9.1)\n",
            "Requirement already satisfied: click in /usr/local/lib/python3.12/dist-packages (from nltk>=3.9->textblob) (8.2.1)\n",
            "Requirement already satisfied: regex>=2021.8.3 in /usr/local/lib/python3.12/dist-packages (from nltk>=3.9->textblob) (2024.11.6)\n",
            "Requirement already satisfied: tqdm in /usr/local/lib/python3.12/dist-packages (from nltk>=3.9->textblob) (4.67.1)\n",
            "Requirement already satisfied: six>=1.5 in /usr/local/lib/python3.12/dist-packages (from python-dateutil>=2.8.2->pandas) (1.17.0)\n",
            "Downloading feedparser-6.0.11-py3-none-any.whl (81 kB)\n",
            "\u001b[2K   \u001b[90m━━━━━━━━━━━━━━━━━━━━━━━━━━━━━━━━━━━━━━━━\u001b[0m \u001b[32m81.3/81.3 kB\u001b[0m \u001b[31m6.9 MB/s\u001b[0m eta \u001b[36m0:00:00\u001b[0m\n",
            "\u001b[?25hBuilding wheels for collected packages: sgmllib3k\n",
            "  Building wheel for sgmllib3k (setup.py) ... \u001b[?25l\u001b[?25hdone\n",
            "  Created wheel for sgmllib3k: filename=sgmllib3k-1.0.0-py3-none-any.whl size=6046 sha256=29dc73621957b7c11910d671e06a9a7ee7577b0e9bcc5658b3b4c78398867ce3\n",
            "  Stored in directory: /root/.cache/pip/wheels/03/f5/1a/23761066dac1d0e8e683e5fdb27e12de53209d05a4a37e6246\n",
            "Successfully built sgmllib3k\n",
            "Installing collected packages: sgmllib3k, feedparser\n",
            "Successfully installed feedparser-6.0.11 sgmllib3k-1.0.0\n"
          ]
        }
      ],
      "source": [
        "!pip install feedparser pandas scikit-learn textblob #pip install command to install lib"
      ]
    },
    {
      "cell_type": "code",
      "source": [
        "import feedparser\n",
        "import pandas as pd\n",
        "import re\n",
        "from textblob import TextBlob"
      ],
      "metadata": {
        "id": "mTS2L25iiZJ-"
      },
      "execution_count": 2,
      "outputs": []
    },
    {
      "cell_type": "code",
      "source": [
        "rss_url = \"https://news.google.com/rss/search?q=AI+sentiment+analysis\" #to collect data"
      ],
      "metadata": {
        "id": "xMyfE5OiigD9"
      },
      "execution_count": 3,
      "outputs": []
    },
    {
      "cell_type": "code",
      "source": [
        "feed = feedparser.parse(rss_url)\n",
        "print(f\"Found {len(feed.entries)} entries\")"
      ],
      "metadata": {
        "colab": {
          "base_uri": "https://localhost:8080/"
        },
        "id": "VCjbk3j4isel",
        "outputId": "da783403-9036-47f0-f93e-b83e6db4eaee"
      },
      "execution_count": 4,
      "outputs": [
        {
          "output_type": "stream",
          "name": "stdout",
          "text": [
            "Found 100 entries\n"
          ]
        }
      ]
    },
    {
      "cell_type": "code",
      "source": [
        "articles = []\n",
        "for entry in feed.entries:\n",
        "    articles.append({\n",
        "        \"title\": entry.title,\n",
        "        \"link\": entry.link,\n",
        "        \"published\": entry.published if 'published' in entry else None\n",
        "    })"
      ],
      "metadata": {
        "id": "UZ9iChHxixw8"
      },
      "execution_count": 5,
      "outputs": []
    },
    {
      "cell_type": "code",
      "source": [
        "df = pd.DataFrame(articles)\n",
        "print(\"Sample articles:\")\n",
        "print(df.head())"
      ],
      "metadata": {
        "colab": {
          "base_uri": "https://localhost:8080/"
        },
        "id": "px68S7WyjGhF",
        "outputId": "c0f7046d-cafd-4fe6-f289-13a289b8803f"
      },
      "execution_count": 6,
      "outputs": [
        {
          "output_type": "stream",
          "name": "stdout",
          "text": [
            "Sample articles:\n",
            "                                               title  \\\n",
            "0  Sentiment analysis tools applied to STKH - Tra...   \n",
            "1  Sentiment analysis tools applied to IAUX - Bul...   \n",
            "2  Sentiment analysis tools applied to HKPD - Sel...   \n",
            "3  Sentiment analysis tools applied to BITF - Jul...   \n",
            "4  How sentiment analysis helps forecast INTS - J...   \n",
            "\n",
            "                                                link  \\\n",
            "0  https://news.google.com/rss/articles/CBMif0FVX...   \n",
            "1  https://news.google.com/rss/articles/CBMif0FVX...   \n",
            "2  https://news.google.com/rss/articles/CBMie0FVX...   \n",
            "3  https://news.google.com/rss/articles/CBMie0FVX...   \n",
            "4  https://news.google.com/rss/articles/CBMifkFVX...   \n",
            "\n",
            "                       published  \n",
            "0  Fri, 29 Aug 2025 11:57:26 GMT  \n",
            "1  Fri, 29 Aug 2025 10:04:41 GMT  \n",
            "2  Fri, 29 Aug 2025 10:11:18 GMT  \n",
            "3  Fri, 29 Aug 2025 10:53:29 GMT  \n",
            "4  Fri, 29 Aug 2025 07:33:33 GMT  \n"
          ]
        }
      ]
    },
    {
      "cell_type": "code",
      "source": [
        "def clean_text(text):\n",
        "    text = re.sub(r\"http\\S+|www\\S+\", \"\", text) # remove URLs\n",
        "    text = re.sub(r\"[^a-zA-Z\\s]\", \"\", text) # remove special chars\n",
        "    text = text.lower().strip()\n",
        "    return text\n",
        "\n",
        "df['clean_title'] = df['title'].apply(clean_text)\n",
        "print(df[['title','clean_title']].head())"
      ],
      "metadata": {
        "colab": {
          "base_uri": "https://localhost:8080/"
        },
        "id": "j-0OzcOEjZRL",
        "outputId": "3a39777a-282e-48a6-a5ff-fdfcd5904106"
      },
      "execution_count": 7,
      "outputs": [
        {
          "output_type": "stream",
          "name": "stdout",
          "text": [
            "                                               title  \\\n",
            "0  Sentiment analysis tools applied to STKH - Tra...   \n",
            "1  Sentiment analysis tools applied to IAUX - Bul...   \n",
            "2  Sentiment analysis tools applied to HKPD - Sel...   \n",
            "3  Sentiment analysis tools applied to BITF - Jul...   \n",
            "4  How sentiment analysis helps forecast INTS - J...   \n",
            "\n",
            "                                         clean_title  \n",
            "0  sentiment analysis tools applied to stkh  trad...  \n",
            "1  sentiment analysis tools applied to iaux  bull...  \n",
            "2  sentiment analysis tools applied to hkpd  sell...  \n",
            "3  sentiment analysis tools applied to bitf  july...  \n",
            "4  how sentiment analysis helps forecast ints  ju...  \n"
          ]
        }
      ]
    },
    {
      "cell_type": "code",
      "source": [
        "df['polarity'] = df['clean_title'].apply(lambda x: TextBlob(x).sentiment.polarity) #to calculate the polarity score\n",
        "df['sentiment'] = df['polarity'].apply(lambda x: \"positive\" if x>0 else (\"negative\" if x<0 else \"neutral\"))\n",
        "\n",
        "print(\"Articles with sentiment:\")\n",
        "print(df[['clean_title','sentiment','polarity']])"
      ],
      "metadata": {
        "colab": {
          "base_uri": "https://localhost:8080/"
        },
        "id": "lqG3KoqdjhPU",
        "outputId": "b1bbda20-3b86-473f-a9bd-12a9dbbbbd64"
      },
      "execution_count": 8,
      "outputs": [
        {
          "output_type": "stream",
          "name": "stdout",
          "text": [
            "Articles with sentiment:\n",
            "                                          clean_title sentiment  polarity\n",
            "0   sentiment analysis tools applied to stkh  trad...   neutral      0.00\n",
            "1   sentiment analysis tools applied to iaux  bull...   neutral      0.00\n",
            "2   sentiment analysis tools applied to hkpd  sell...   neutral      0.00\n",
            "3   sentiment analysis tools applied to bitf  july...   neutral      0.00\n",
            "4   how sentiment analysis helps forecast ints  ju...   neutral      0.00\n",
            "..                                                ...       ...       ...\n",
            "95  how sentiment analysis helps forecast rezolve ...  positive      0.32\n",
            "96  how sentiment analysis helps forecast accelera...   neutral      0.00\n",
            "97  how sentiment analysis helps forecast rbb banc...   neutral      0.00\n",
            "98  how sentiment analysis helps forecast qgen  ju...   neutral      0.00\n",
            "99  how sentiment analysis helps forecast intensit...   neutral      0.00\n",
            "\n",
            "[100 rows x 3 columns]\n"
          ]
        }
      ]
    },
    {
      "cell_type": "code",
      "source": [
        "df.to_csv(\"google_news_sentiment.csv\", index=False)\n",
        "print(\"Saved CSV: google_news_sentiment.csv\")\n",
        "from google.colab import files\n",
        "files.download(\"google_news_sentiment.csv\")"
      ],
      "metadata": {
        "colab": {
          "base_uri": "https://localhost:8080/",
          "height": 34
        },
        "id": "BbMCnmYwjoTs",
        "outputId": "de687eb0-d9ba-4da3-900f-d0cd4b253ece"
      },
      "execution_count": 9,
      "outputs": [
        {
          "output_type": "stream",
          "name": "stdout",
          "text": [
            "Saved CSV: google_news_sentiment.csv\n"
          ]
        },
        {
          "output_type": "display_data",
          "data": {
            "text/plain": [
              "<IPython.core.display.Javascript object>"
            ],
            "application/javascript": [
              "\n",
              "    async function download(id, filename, size) {\n",
              "      if (!google.colab.kernel.accessAllowed) {\n",
              "        return;\n",
              "      }\n",
              "      const div = document.createElement('div');\n",
              "      const label = document.createElement('label');\n",
              "      label.textContent = `Downloading \"${filename}\": `;\n",
              "      div.appendChild(label);\n",
              "      const progress = document.createElement('progress');\n",
              "      progress.max = size;\n",
              "      div.appendChild(progress);\n",
              "      document.body.appendChild(div);\n",
              "\n",
              "      const buffers = [];\n",
              "      let downloaded = 0;\n",
              "\n",
              "      const channel = await google.colab.kernel.comms.open(id);\n",
              "      // Send a message to notify the kernel that we're ready.\n",
              "      channel.send({})\n",
              "\n",
              "      for await (const message of channel.messages) {\n",
              "        // Send a message to notify the kernel that we're ready.\n",
              "        channel.send({})\n",
              "        if (message.buffers) {\n",
              "          for (const buffer of message.buffers) {\n",
              "            buffers.push(buffer);\n",
              "            downloaded += buffer.byteLength;\n",
              "            progress.value = downloaded;\n",
              "          }\n",
              "        }\n",
              "      }\n",
              "      const blob = new Blob(buffers, {type: 'application/binary'});\n",
              "      const a = document.createElement('a');\n",
              "      a.href = window.URL.createObjectURL(blob);\n",
              "      a.download = filename;\n",
              "      div.appendChild(a);\n",
              "      a.click();\n",
              "      div.remove();\n",
              "    }\n",
              "  "
            ]
          },
          "metadata": {}
        },
        {
          "output_type": "display_data",
          "data": {
            "text/plain": [
              "<IPython.core.display.Javascript object>"
            ],
            "application/javascript": [
              "download(\"download_6dcb2061-da9c-49a2-8cab-e8efcc221efb\", \"google_news_sentiment.csv\", 49643)"
            ]
          },
          "metadata": {}
        }
      ]
    }
  ]
}