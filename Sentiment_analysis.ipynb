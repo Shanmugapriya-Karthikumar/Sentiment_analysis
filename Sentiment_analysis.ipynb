{
  "nbformat": 4,
  "nbformat_minor": 0,
  "metadata": {
    "colab": {
      "provenance": [],
      "gpuType": "T4",
      "authorship_tag": "ABX9TyNligduT4Ve+GSZwTr/qIJj",
      "include_colab_link": true
    },
    "kernelspec": {
      "name": "python3",
      "display_name": "Python 3"
    },
    "language_info": {
      "name": "python"
    },
    "accelerator": "GPU"
  },
  "cells": [
    {
      "cell_type": "markdown",
      "metadata": {
        "id": "view-in-github",
        "colab_type": "text"
      },
      "source": [
        "<a href=\"https://colab.research.google.com/github/Shanmugapriya-Karthikumar/Sentiment_analysis/blob/main/Sentiment_analysis.ipynb\" target=\"_parent\"><img src=\"https://colab.research.google.com/assets/colab-badge.svg\" alt=\"Open In Colab\"/></a>"
      ]
    },
    {
      "cell_type": "code",
      "source": [
        "#Importing Libraries\n",
        "import requests\n",
        "import pandas as pd\n",
        "import re\n",
        "from textblob import TextBlob\n",
        "from google.colab import files"
      ],
      "metadata": {
        "id": "tTYm_FCz-G0r"
      },
      "execution_count": null,
      "outputs": []
    },
    {
      "cell_type": "code",
      "source": [
        "NEWS_API_KEY = \"My_API_Key\" #API key for fetching data\n",
        "query =\"artificial intelligence\" #Query for fetching data"
      ],
      "metadata": {
        "id": "NAFL1S7a-Dx4"
      },
      "execution_count": null,
      "outputs": []
    },
    {
      "cell_type": "code",
      "source": [
        "url = f\"https://newsapi.org/v2/everything?q={query}&language=en&pageSize=100&page=1&apiKey={NEWS_API_KEY}\" #URL to fetch news data"
      ],
      "metadata": {
        "id": "ySvJwPzj-R5Q"
      },
      "execution_count": null,
      "outputs": []
    },
    {
      "cell_type": "code",
      "source": [
        "response = requests.get(url)   #send and receve requests\n",
        "data = response.json()\n",
        "\n",
        "articles = data.get(\"articles\", [])\n",
        "#If articles are not found then it returns a empty list[]\n",
        "if not articles:\n",
        "    print(\"No articles found. Please check your API key, query, or quota.\")\n",
        "else:\n",
        "    df = pd.DataFrame([{      #Create DataFrame\n",
        "        \"title\": a.get(\"title\"),\n",
        "        \"description\": a.get(\"description\"),\n",
        "        \"url\": a.get(\"url\"),\n",
        "        \"publishedAt\": a.get(\"publishedAt\")\n",
        "    } for a in articles])"
      ],
      "metadata": {
        "id": "UgAA_RCW-XZ6"
      },
      "execution_count": null,
      "outputs": []
    },
    {
      "cell_type": "code",
      "source": [
        "    def clean_text(text):\n",
        "        if not text:\n",
        "            return \"\"\n",
        "        text = re.sub(r\"http\\S+|www\\S+\", \"\", text)   # remove URLs\n",
        "        text = re.sub(r\"[^a-zA-Z\\s]\", \"\", text)      # remove special chars\n",
        "        text = text.lower().strip()\n",
        "        return text\n",
        "\n",
        "    df[\"clean_title\"] = df[\"title\"].apply(clean_text)"
      ],
      "metadata": {
        "id": "tyqXTx5h-uFE"
      },
      "execution_count": null,
      "outputs": []
    },
    {
      "cell_type": "code",
      "source": [
        "    df[\"polarity\"] = df[\"clean_title\"].apply(lambda x: TextBlob(x).sentiment.polarity)    #Assinging the polarity of the texts\n",
        "    df[\"sentiment\"] = df[\"polarity\"].apply(lambda x: \"positive\" if x > 0 else (\"negative\" if x < 0 else \"neutral\"))"
      ],
      "metadata": {
        "id": "SvK8OlgU-_v7"
      },
      "execution_count": null,
      "outputs": []
    },
    {
      "cell_type": "code",
      "source": [
        "    #Saving as a CSV file\n",
        "    filename = \"news_sentiment.csv\"\n",
        "    df.to_csv(filename, index=False)\n",
        "    print(f\"✅ Saved CSV as: {filename}\")"
      ],
      "metadata": {
        "colab": {
          "base_uri": "https://localhost:8080/"
        },
        "id": "u9_q2S99_VKg",
        "outputId": "8af134e8-0614-47d1-9c97-b5ad213deba2"
      },
      "execution_count": null,
      "outputs": [
        {
          "output_type": "stream",
          "name": "stdout",
          "text": [
            "✅ Saved CSV as: news_sentiment.csv\n"
          ]
        }
      ]
    },
    {
      "cell_type": "code",
      "source": [
        "    files.download(filename) #Downloading the CSV file"
      ],
      "metadata": {
        "colab": {
          "base_uri": "https://localhost:8080/",
          "height": 17
        },
        "id": "kobG670e_isb",
        "outputId": "70dd1c65-5af6-43c0-a925-565638f03f67"
      },
      "execution_count": null,
      "outputs": [
        {
          "output_type": "display_data",
          "data": {
            "text/plain": [
              "<IPython.core.display.Javascript object>"
            ],
            "application/javascript": [
              "\n",
              "    async function download(id, filename, size) {\n",
              "      if (!google.colab.kernel.accessAllowed) {\n",
              "        return;\n",
              "      }\n",
              "      const div = document.createElement('div');\n",
              "      const label = document.createElement('label');\n",
              "      label.textContent = `Downloading \"${filename}\": `;\n",
              "      div.appendChild(label);\n",
              "      const progress = document.createElement('progress');\n",
              "      progress.max = size;\n",
              "      div.appendChild(progress);\n",
              "      document.body.appendChild(div);\n",
              "\n",
              "      const buffers = [];\n",
              "      let downloaded = 0;\n",
              "\n",
              "      const channel = await google.colab.kernel.comms.open(id);\n",
              "      // Send a message to notify the kernel that we're ready.\n",
              "      channel.send({})\n",
              "\n",
              "      for await (const message of channel.messages) {\n",
              "        // Send a message to notify the kernel that we're ready.\n",
              "        channel.send({})\n",
              "        if (message.buffers) {\n",
              "          for (const buffer of message.buffers) {\n",
              "            buffers.push(buffer);\n",
              "            downloaded += buffer.byteLength;\n",
              "            progress.value = downloaded;\n",
              "          }\n",
              "        }\n",
              "      }\n",
              "      const blob = new Blob(buffers, {type: 'application/binary'});\n",
              "      const a = document.createElement('a');\n",
              "      a.href = window.URL.createObjectURL(blob);\n",
              "      a.download = filename;\n",
              "      div.appendChild(a);\n",
              "      a.click();\n",
              "      div.remove();\n",
              "    }\n",
              "  "
            ]
          },
          "metadata": {}
        },
        {
          "output_type": "display_data",
          "data": {
            "text/plain": [
              "<IPython.core.display.Javascript object>"
            ],
            "application/javascript": [
              "download(\"download_0199b901-08a4-4664-9c1c-513111c71ee9\", \"news_sentiment.csv\", 40587)"
            ]
          },
          "metadata": {}
        }
      ]
    }
  ]
}